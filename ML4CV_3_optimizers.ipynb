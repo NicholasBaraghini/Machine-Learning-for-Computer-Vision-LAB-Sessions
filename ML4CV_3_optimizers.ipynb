{
  "nbformat": 4,
  "nbformat_minor": 0,
  "metadata": {
    "colab": {
      "name": "ML4CV_3_optimizers.ipynb",
      "provenance": [],
      "collapsed_sections": [],
      "include_colab_link": true
    },
    "kernelspec": {
      "name": "python3",
      "display_name": "Python 3"
    },
    "widgets": {
      "application/vnd.jupyter.widget-state+json": {
        "82df1a255ba8498ca69aac6ad6e0b621": {
          "model_module": "@jupyter-widgets/controls",
          "model_name": "HBoxModel",
          "model_module_version": "1.5.0",
          "state": {
            "_view_name": "HBoxView",
            "_dom_classes": [],
            "_model_name": "HBoxModel",
            "_view_module": "@jupyter-widgets/controls",
            "_model_module_version": "1.5.0",
            "_view_count": null,
            "_view_module_version": "1.5.0",
            "box_style": "",
            "layout": "IPY_MODEL_964760d487ca4eb9b621780959dc53b3",
            "_model_module": "@jupyter-widgets/controls",
            "children": [
              "IPY_MODEL_49aad38df36e4e538e7fc6a4d6a0f7bd",
              "IPY_MODEL_c4547e6953db40b4af061bc79833b562",
              "IPY_MODEL_61d1498b92b7467da5cd4290eb450d69"
            ]
          }
        },
        "964760d487ca4eb9b621780959dc53b3": {
          "model_module": "@jupyter-widgets/base",
          "model_name": "LayoutModel",
          "model_module_version": "1.2.0",
          "state": {
            "_view_name": "LayoutView",
            "grid_template_rows": null,
            "right": null,
            "justify_content": null,
            "_view_module": "@jupyter-widgets/base",
            "overflow": null,
            "_model_module_version": "1.2.0",
            "_view_count": null,
            "flex_flow": null,
            "width": null,
            "min_width": null,
            "border": null,
            "align_items": null,
            "bottom": null,
            "_model_module": "@jupyter-widgets/base",
            "top": null,
            "grid_column": null,
            "overflow_y": null,
            "overflow_x": null,
            "grid_auto_flow": null,
            "grid_area": null,
            "grid_template_columns": null,
            "flex": null,
            "_model_name": "LayoutModel",
            "justify_items": null,
            "grid_row": null,
            "max_height": null,
            "align_content": null,
            "visibility": null,
            "align_self": null,
            "height": null,
            "min_height": null,
            "padding": null,
            "grid_auto_rows": null,
            "grid_gap": null,
            "max_width": null,
            "order": null,
            "_view_module_version": "1.2.0",
            "grid_template_areas": null,
            "object_position": null,
            "object_fit": null,
            "grid_auto_columns": null,
            "margin": null,
            "display": null,
            "left": null
          }
        },
        "49aad38df36e4e538e7fc6a4d6a0f7bd": {
          "model_module": "@jupyter-widgets/controls",
          "model_name": "HTMLModel",
          "model_module_version": "1.5.0",
          "state": {
            "_view_name": "HTMLView",
            "style": "IPY_MODEL_ae7c60d5632d40fc81f6e5bd75095863",
            "_dom_classes": [],
            "description": "",
            "_model_name": "HTMLModel",
            "placeholder": "​",
            "_view_module": "@jupyter-widgets/controls",
            "_model_module_version": "1.5.0",
            "value": "",
            "_view_count": null,
            "_view_module_version": "1.5.0",
            "description_tooltip": null,
            "_model_module": "@jupyter-widgets/controls",
            "layout": "IPY_MODEL_ca09b618f724435eae3eebbe31234062"
          }
        },
        "c4547e6953db40b4af061bc79833b562": {
          "model_module": "@jupyter-widgets/controls",
          "model_name": "FloatProgressModel",
          "model_module_version": "1.5.0",
          "state": {
            "_view_name": "ProgressView",
            "style": "IPY_MODEL_1f20c4d1c38e4dd3b4527f369701ea5d",
            "_dom_classes": [],
            "description": "",
            "_model_name": "FloatProgressModel",
            "bar_style": "success",
            "max": 170498071,
            "_view_module": "@jupyter-widgets/controls",
            "_model_module_version": "1.5.0",
            "value": 170498071,
            "_view_count": null,
            "_view_module_version": "1.5.0",
            "orientation": "horizontal",
            "min": 0,
            "description_tooltip": null,
            "_model_module": "@jupyter-widgets/controls",
            "layout": "IPY_MODEL_c643db5dd1594cbeba1351c9017cba89"
          }
        },
        "61d1498b92b7467da5cd4290eb450d69": {
          "model_module": "@jupyter-widgets/controls",
          "model_name": "HTMLModel",
          "model_module_version": "1.5.0",
          "state": {
            "_view_name": "HTMLView",
            "style": "IPY_MODEL_a9cc0adbb5fb4994a349cc4e216819dd",
            "_dom_classes": [],
            "description": "",
            "_model_name": "HTMLModel",
            "placeholder": "​",
            "_view_module": "@jupyter-widgets/controls",
            "_model_module_version": "1.5.0",
            "value": " 170499072/? [00:06&lt;00:00, 31039046.24it/s]",
            "_view_count": null,
            "_view_module_version": "1.5.0",
            "description_tooltip": null,
            "_model_module": "@jupyter-widgets/controls",
            "layout": "IPY_MODEL_5ad3f4aad3d44396af264e977d555327"
          }
        },
        "ae7c60d5632d40fc81f6e5bd75095863": {
          "model_module": "@jupyter-widgets/controls",
          "model_name": "DescriptionStyleModel",
          "model_module_version": "1.5.0",
          "state": {
            "_view_name": "StyleView",
            "_model_name": "DescriptionStyleModel",
            "description_width": "",
            "_view_module": "@jupyter-widgets/base",
            "_model_module_version": "1.5.0",
            "_view_count": null,
            "_view_module_version": "1.2.0",
            "_model_module": "@jupyter-widgets/controls"
          }
        },
        "ca09b618f724435eae3eebbe31234062": {
          "model_module": "@jupyter-widgets/base",
          "model_name": "LayoutModel",
          "model_module_version": "1.2.0",
          "state": {
            "_view_name": "LayoutView",
            "grid_template_rows": null,
            "right": null,
            "justify_content": null,
            "_view_module": "@jupyter-widgets/base",
            "overflow": null,
            "_model_module_version": "1.2.0",
            "_view_count": null,
            "flex_flow": null,
            "width": null,
            "min_width": null,
            "border": null,
            "align_items": null,
            "bottom": null,
            "_model_module": "@jupyter-widgets/base",
            "top": null,
            "grid_column": null,
            "overflow_y": null,
            "overflow_x": null,
            "grid_auto_flow": null,
            "grid_area": null,
            "grid_template_columns": null,
            "flex": null,
            "_model_name": "LayoutModel",
            "justify_items": null,
            "grid_row": null,
            "max_height": null,
            "align_content": null,
            "visibility": null,
            "align_self": null,
            "height": null,
            "min_height": null,
            "padding": null,
            "grid_auto_rows": null,
            "grid_gap": null,
            "max_width": null,
            "order": null,
            "_view_module_version": "1.2.0",
            "grid_template_areas": null,
            "object_position": null,
            "object_fit": null,
            "grid_auto_columns": null,
            "margin": null,
            "display": null,
            "left": null
          }
        },
        "1f20c4d1c38e4dd3b4527f369701ea5d": {
          "model_module": "@jupyter-widgets/controls",
          "model_name": "ProgressStyleModel",
          "model_module_version": "1.5.0",
          "state": {
            "_view_name": "StyleView",
            "_model_name": "ProgressStyleModel",
            "description_width": "",
            "_view_module": "@jupyter-widgets/base",
            "_model_module_version": "1.5.0",
            "_view_count": null,
            "_view_module_version": "1.2.0",
            "bar_color": null,
            "_model_module": "@jupyter-widgets/controls"
          }
        },
        "c643db5dd1594cbeba1351c9017cba89": {
          "model_module": "@jupyter-widgets/base",
          "model_name": "LayoutModel",
          "model_module_version": "1.2.0",
          "state": {
            "_view_name": "LayoutView",
            "grid_template_rows": null,
            "right": null,
            "justify_content": null,
            "_view_module": "@jupyter-widgets/base",
            "overflow": null,
            "_model_module_version": "1.2.0",
            "_view_count": null,
            "flex_flow": null,
            "width": null,
            "min_width": null,
            "border": null,
            "align_items": null,
            "bottom": null,
            "_model_module": "@jupyter-widgets/base",
            "top": null,
            "grid_column": null,
            "overflow_y": null,
            "overflow_x": null,
            "grid_auto_flow": null,
            "grid_area": null,
            "grid_template_columns": null,
            "flex": null,
            "_model_name": "LayoutModel",
            "justify_items": null,
            "grid_row": null,
            "max_height": null,
            "align_content": null,
            "visibility": null,
            "align_self": null,
            "height": null,
            "min_height": null,
            "padding": null,
            "grid_auto_rows": null,
            "grid_gap": null,
            "max_width": null,
            "order": null,
            "_view_module_version": "1.2.0",
            "grid_template_areas": null,
            "object_position": null,
            "object_fit": null,
            "grid_auto_columns": null,
            "margin": null,
            "display": null,
            "left": null
          }
        },
        "a9cc0adbb5fb4994a349cc4e216819dd": {
          "model_module": "@jupyter-widgets/controls",
          "model_name": "DescriptionStyleModel",
          "model_module_version": "1.5.0",
          "state": {
            "_view_name": "StyleView",
            "_model_name": "DescriptionStyleModel",
            "description_width": "",
            "_view_module": "@jupyter-widgets/base",
            "_model_module_version": "1.5.0",
            "_view_count": null,
            "_view_module_version": "1.2.0",
            "_model_module": "@jupyter-widgets/controls"
          }
        },
        "5ad3f4aad3d44396af264e977d555327": {
          "model_module": "@jupyter-widgets/base",
          "model_name": "LayoutModel",
          "model_module_version": "1.2.0",
          "state": {
            "_view_name": "LayoutView",
            "grid_template_rows": null,
            "right": null,
            "justify_content": null,
            "_view_module": "@jupyter-widgets/base",
            "overflow": null,
            "_model_module_version": "1.2.0",
            "_view_count": null,
            "flex_flow": null,
            "width": null,
            "min_width": null,
            "border": null,
            "align_items": null,
            "bottom": null,
            "_model_module": "@jupyter-widgets/base",
            "top": null,
            "grid_column": null,
            "overflow_y": null,
            "overflow_x": null,
            "grid_auto_flow": null,
            "grid_area": null,
            "grid_template_columns": null,
            "flex": null,
            "_model_name": "LayoutModel",
            "justify_items": null,
            "grid_row": null,
            "max_height": null,
            "align_content": null,
            "visibility": null,
            "align_self": null,
            "height": null,
            "min_height": null,
            "padding": null,
            "grid_auto_rows": null,
            "grid_gap": null,
            "max_width": null,
            "order": null,
            "_view_module_version": "1.2.0",
            "grid_template_areas": null,
            "object_position": null,
            "object_fit": null,
            "grid_auto_columns": null,
            "margin": null,
            "display": null,
            "left": null
          }
        }
      }
    }
  },
  "cells": [
    {
      "cell_type": "markdown",
      "metadata": {
        "id": "view-in-github",
        "colab_type": "text"
      },
      "source": [
        "<a href=\"https://colab.research.google.com/github/NicholasBaraghini/Machine-Learning-for-Computer-Vision-LAB-Sessions/blob/main/ML4CV_3_optimizers.ipynb\" target=\"_parent\"><img src=\"https://colab.research.google.com/assets/colab-badge.svg\" alt=\"Open In Colab\"/></a>"
      ]
    },
    {
      "cell_type": "markdown",
      "metadata": {
        "id": "ghvno2IJu4Px"
      },
      "source": [
        "We start with our usual imports and figure adjustments."
      ]
    },
    {
      "cell_type": "code",
      "metadata": {
        "id": "4pJTBAsNTToc"
      },
      "source": [
        "import torch\n",
        "import torchvision\n",
        "import torchvision.transforms as transforms\n",
        "from torch.utils.data import random_split, DataLoader, TensorDataset\n",
        "import torch.nn.functional as F\n",
        "import matplotlib.pyplot as plt\n",
        "import numpy as np\n",
        "import math\n",
        "from timeit import default_timer as timer\n",
        "from functools import partial\n",
        "\n",
        "plt.rcParams['figure.figsize'] = (12.0, 8.0)\n",
        "plt.rcParams['font.size'] = 16"
      ],
      "execution_count": null,
      "outputs": []
    },
    {
      "cell_type": "markdown",
      "metadata": {
        "id": "tl0yTZ0-u8BB"
      },
      "source": [
        "We then download the CIFAR10 dataset, as usual. Since we are still processing images as vectors with a linear classifier, we add a `torchvision.transforms.Transform` to reshape them as vectors already when we load them into the `Dataset` class. `Transform`s are pre-processing operations we apply on each of our item before returning them. \n",
        "\n",
        "We were already using a `Transform` in the previous notebooks: `ToTensor`. To load images from files, pytorch uses an image processing library, like OpenCV. It does not uses OpenCV, though, but PIL, the Python Image Library. `ToTensor` then converts an image from the PIL format to a PyTorch `Tensor`. It also makes sure the entries of the tensor are in $[0,1]$ by dividing them by $255$.\n",
        "\n",
        "To reshape tensors to have only one dimension, we use a `LambdaTransform`: it is a generic transform that you can use to realize a transformation not already implemented in PyTorch. \n",
        "\n",
        "Finally, we use `Transform.Compose` to chain single transformatioms into a pipeline. "
      ]
    },
    {
      "cell_type": "code",
      "metadata": {
        "id": "sMQwV-SZTcac",
        "colab": {
          "base_uri": "https://localhost:8080/",
          "height": 101,
          "referenced_widgets": [
            "82df1a255ba8498ca69aac6ad6e0b621",
            "964760d487ca4eb9b621780959dc53b3",
            "49aad38df36e4e538e7fc6a4d6a0f7bd",
            "c4547e6953db40b4af061bc79833b562",
            "61d1498b92b7467da5cd4290eb450d69",
            "ae7c60d5632d40fc81f6e5bd75095863",
            "ca09b618f724435eae3eebbe31234062",
            "1f20c4d1c38e4dd3b4527f369701ea5d",
            "c643db5dd1594cbeba1351c9017cba89",
            "a9cc0adbb5fb4994a349cc4e216819dd",
            "5ad3f4aad3d44396af264e977d555327"
          ]
        },
        "outputId": "d8d72e80-96bd-4289-a7b4-7845a54a3e47"
      },
      "source": [
        "trsfms = transforms.Compose([transforms.ToTensor(), transforms.Lambda(lambda z: z.reshape(-1))]) \n",
        "train_ds = torchvision.datasets.CIFAR10(root=\"/data/\", train=True, transform=trsfms, download=True)\n",
        "test_ds = torchvision.datasets.CIFAR10(root=\"/data/\", train=False, transform=trsfms)\n",
        "\n",
        "classes = train_ds.classes\n",
        "n_classes = len(classes)\n",
        "n_features = len(train_ds[0][0])\n",
        "n_classes, n_features"
      ],
      "execution_count": null,
      "outputs": [
        {
          "output_type": "stream",
          "name": "stdout",
          "text": [
            "Downloading https://www.cs.toronto.edu/~kriz/cifar-10-python.tar.gz to /data/cifar-10-python.tar.gz\n"
          ]
        },
        {
          "output_type": "display_data",
          "data": {
            "application/vnd.jupyter.widget-view+json": {
              "model_id": "82df1a255ba8498ca69aac6ad6e0b621",
              "version_minor": 0,
              "version_major": 2
            },
            "text/plain": [
              "  0%|          | 0/170498071 [00:00<?, ?it/s]"
            ]
          },
          "metadata": {}
        },
        {
          "output_type": "stream",
          "name": "stdout",
          "text": [
            "Extracting /data/cifar-10-python.tar.gz to /data/\n"
          ]
        },
        {
          "output_type": "execute_result",
          "data": {
            "text/plain": [
              "(10, 3072)"
            ]
          },
          "metadata": {},
          "execution_count": 2
        }
      ]
    },
    {
      "cell_type": "markdown",
      "metadata": {
        "id": "G3HRWw_X7ds0"
      },
      "source": [
        "We split the training dataset as usual."
      ]
    },
    {
      "cell_type": "code",
      "metadata": {
        "id": "f_1QrclMTmwx"
      },
      "source": [
        "splitted_datasets = torch.utils.data.random_split(train_ds, [45000, 5000])\n",
        "actual_train_subds = splitted_datasets[0]\n",
        "valid_subds = splitted_datasets[1]"
      ],
      "execution_count": null,
      "outputs": []
    },
    {
      "cell_type": "markdown",
      "metadata": {
        "id": "EVulS6u37nWf"
      },
      "source": [
        "This time we do not transfer input images into a feature matrix, as we will finally use `DataLoader`s. To create smaller datasets to use while developing and for initial testing, we explicitly create `torch.utils.data.Subset`s. \n",
        "\n",
        "A `Subset` is a collection of indexes over a `Dataset`. It can be used everywhere a `Dataset` can."
      ]
    },
    {
      "cell_type": "code",
      "metadata": {
        "id": "A1NQw2HofAq9"
      },
      "source": [
        "small_actual_train_subds = torch.utils.data.Subset(actual_train_subds, range(500))\n",
        "small_valid_subds = torch.utils.data.Subset(valid_subds, range(100))\n",
        "small_test_subds = torch.utils.data.Subset(test_ds, range(100))"
      ],
      "execution_count": null,
      "outputs": []
    },
    {
      "cell_type": "markdown",
      "metadata": {
        "id": "uqbV9XlQ8ckF"
      },
      "source": [
        "We are finally ready to create `torch.utils.data.DataLoader`s. A `DataLoader` makes it easy to implement mini-batch SGD. A DataLoader is an iterable object, i.e. you can use it in a `for` loop. It iterates over a `Dataset`, one mini-batch of size `batch_size` at the time. \n",
        "\n",
        "Let's create first a DataLoader to experiment with it."
      ]
    },
    {
      "cell_type": "code",
      "metadata": {
        "id": "4YlPJrQE_Hv-"
      },
      "source": [
        "probe_dl = torch.utils.data.DataLoader(small_test_subds, batch_size=16, shuffle=True)"
      ],
      "execution_count": null,
      "outputs": []
    },
    {
      "cell_type": "code",
      "metadata": {
        "id": "mM1nmqYfx_i9"
      },
      "source": [
        "%matplotlib inline\n",
        "def show(img):\n",
        "    npimg = img.numpy()\n",
        "    plt.imshow(np.transpose(npimg, (1,2,0)))\n",
        "    plt.axis('off')"
      ],
      "execution_count": null,
      "outputs": []
    },
    {
      "cell_type": "markdown",
      "metadata": {
        "id": "sHLLsfHC3DW6"
      },
      "source": [
        "Everytime you use a `DataLoader` (or another iterable) in a `for` loop, Python creates and `iter`ator around it and calls the function `next()` on it. This is what we simulate in this cell. Everytime you execute it, you will get a new minibatch. \n",
        "\n",
        "Each mini-batch is a list of two `Tensor`s, storing 16 items $x^{(i)}$ and their 16 labels $y^{(i)}$, respectively."
      ]
    },
    {
      "cell_type": "code",
      "metadata": {
        "id": "WnKSOc3BWc-n",
        "colab": {
          "base_uri": "https://localhost:8080/"
        },
        "outputId": "7d731bb5-31ef-45fd-8a57-a2a22567feab"
      },
      "source": [
        "data = next(iter(probe_dl))\n",
        "print(type(data), len(data), type(data[0]), data[0].shape, type(data[1]), data[1].shape)\n",
        "show(torchvision.utils.make_grid(data[0].reshape(-1,3,32,32)))\n",
        "print(list(map(lambda x: classes[x], data[1])))"
      ],
      "execution_count": null,
      "outputs": [
        {
          "output_type": "stream",
          "name": "stdout",
          "text": [
            "<class 'list'> 2 <class 'torch.Tensor'> torch.Size([16, 3072]) <class 'torch.Tensor'> torch.Size([16])\n",
            "['ship', 'automobile', 'airplane', 'ship', 'frog', 'truck', 'cat', 'truck', 'deer', 'frog', 'cat', 'airplane', 'dog', 'airplane', 'truck', 'cat']\n"
          ]
        },
        {
          "output_type": "display_data",
          "data": {
            "image/png": "[encoded data removed]",
            "text/plain": [
              "<Figure size 432x288 with 1 Axes>"
            ]
          },
          "metadata": {
            "needs_background": "light"
          }
        }
      ]
    },
    {
      "cell_type": "markdown",
      "metadata": {
        "id": "ppUGWUTJ3-Uv"
      },
      "source": [
        "Anotehr useful property of a `DataLoader` is its length, which you can retrieve with `len`, as you would do on any other collection. It returns the number of mini-batches, and therefore of **parameter updates** that you will perform when training with this `DataLoader`.\n",
        "\n",
        "In this case, we expect to obtain $\\lceil \\frac{100}{16} \\rceil=7$ mini-batches."
      ]
    },
    {
      "cell_type": "code",
      "metadata": {
        "id": "Ay3dO_akZqQp",
        "colab": {
          "base_uri": "https://localhost:8080/"
        },
        "outputId": "efde5bb5-0ec3-4679-e9ae-8b84dd45aa18"
      },
      "source": [
        "len(probe_dl)"
      ],
      "execution_count": null,
      "outputs": [
        {
          "output_type": "execute_result",
          "data": {
            "text/plain": [
              "7"
            ]
          },
          "metadata": {},
          "execution_count": 8
        }
      ]
    },
    {
      "cell_type": "markdown",
      "metadata": {
        "id": "63xtAZo8_Spq"
      },
      "source": [
        "Let's now create the `DataLoader`s we need. Three small ones for quick experimentation, wrapping the `Subset`s we created before, and three full size ones, to use at the end.\n",
        "\n",
        "We will fix `batch_size` to 128. Try to vary it to see its effect!\n",
        "\n",
        "**IMPORTANT**: notice that we set `shuffle=True` for the training `DataLoader`s. It is important to remember it. With `shuffle=True`, after every epoch, i.e. after having returned all the items in the underlying `Dataset`, items will be shuffled within the DataLoader to produce new minibatches in the next epoch."
      ]
    },
    {
      "cell_type": "code",
      "metadata": {
        "id": "xUHgzsp_Tqaz"
      },
      "source": [
        "batch_size = 128\n",
        "small_actual_train_dl = torch.utils.data.DataLoader(small_actual_train_subds, batch_size=batch_size, shuffle=True)\n",
        "small_valid_dl = torch.utils.data.DataLoader(small_valid_subds, batch_size=batch_size)\n",
        "small_test_dl = torch.utils.data.DataLoader(small_test_subds, batch_size=batch_size)\n",
        "actual_train_dl = torch.utils.data.DataLoader(actual_train_subds, batch_size=batch_size, shuffle=True)\n",
        "valid_dl = torch.utils.data.DataLoader(valid_subds, batch_size=batch_size)\n",
        "test_dl = torch.utils.data.DataLoader(test_ds, batch_size=batch_size)"
      ],
      "execution_count": null,
      "outputs": []
    },
    {
      "cell_type": "markdown",
      "metadata": {
        "id": "ag-sZiPvATFV"
      },
      "source": [
        "We then define the same linear classifier we introduced in the previous lecture. For convinience, this time we create a class which holds together the random initialization in the `__init__` method (which also tells PyTorch to compute gradients for `W` and `b`), and the method to classify new data, which we call `forward`, since it implements the forward pass of GD/SGD. This is also the convention used by other classes in PyTorch, as we shall see. \n",
        "\n",
        "Note we use the small value for the standard deviation at initialization, as we discussed in the last lecture.\n",
        "\n",
        "We also add a `set_params` method to load params computed after training into a test model."
      ]
    },
    {
      "cell_type": "code",
      "metadata": {
        "id": "TjybWa9TUs2E"
      },
      "source": [
        "class LinearClassifier:\n",
        "  def __init__(self, n_features, n_classes):\n",
        "      self.W = torch.normal(0, 0.0001, (n_features, n_classes)).requires_grad_()\n",
        "      self.b = torch.zeros(n_classes).requires_grad_()\n",
        "\n",
        "  def forward(self, batch):\n",
        "    return torch.matmul(batch, self.W) + self.b\n",
        "\n",
        "  def set_params(self, W, b):\n",
        "    if self.W.shape != W.shape or self.b.shape != b.shape:\n",
        "      raise ValueError(\"Shape of input Tensors not compatible with classifier shape\")\n",
        "    self.W=W\n",
        "    self.b=b"
      ],
      "execution_count": null,
      "outputs": []
    },
    {
      "cell_type": "markdown",
      "metadata": {
        "id": "MfW7IDN23sq6"
      },
      "source": [
        "We can now implement SGD (with minibatches). Using `DataLoader`s the loop is very similar to the standard GD loop we wrote in the previous lecture.\n",
        "\n",
        "In each epoch, we loop over the mini-batches returned by the `train_dl`. We then perform the usual pipeline of calling `forward`, then `loss`, then `backward`, then update params, then zero the gradients. \n",
        "\n",
        "Training loss is computed (and averaged over) each mini-batch. To accumulate it correctly in order to compute the loss over the full training (or validation) set, we need to multiply it back for the number of items in a mini-batch and keep track of how many items we have processed.\n",
        "\n",
        "After each epoch completes, we compute the validation statistics. Splitting data into mini-batches is not really needed here, as we will simply call foward and evlauate the results on each item of the set. Yet, this will become the most efficient way to compute validation stats when we will  be using larger models and datasets on GPUs. Hence, we will start using it immediately to get used to it.\n"
      ]
    },
    {
      "cell_type": "code",
      "metadata": {
        "id": "7TZ1HqG3WYtQ"
      },
      "source": [
        "def ncorrect(scores, y):\n",
        "  y_hat = torch.argmax(scores, 1)\n",
        "  return (y_hat==y).sum()\n",
        "\n",
        "def accuracy(scores, y):\n",
        "  correct = ncorrect(scores, y)\n",
        "  return correct.true_divide(y.shape[0])\n",
        "\n",
        "def train_linear_classifier(n_features, n_classes, train_dl, epochs, lr, valid_dl=None, verbose=False):\n",
        "  lc = LinearClassifier(n_features, n_classes)\n",
        "  best_valid_acc = 0\n",
        "  best_params = [lc.W, lc.b]\n",
        "  best_epoch = -1\n",
        "\n",
        "  for e in range(epochs):\n",
        "    #train\n",
        "    train_loss = 0\n",
        "    train_samples = 0\n",
        "    train_acc = 0\n",
        "    for train_data in train_dl:\n",
        "      scores = lc.forward(train_data[0])\n",
        "      loss = F.cross_entropy(scores, train_data[1])\n",
        "      train_loss += loss.item() * train_data[0].shape[0]\n",
        "      train_samples += train_data[0].shape[0]\n",
        "      train_acc += ncorrect(scores, train_data[1]).item()\n",
        "      loss.backward()\n",
        "\n",
        "      with torch.no_grad():\n",
        "        \n",
        "        # Vanilla SGD\n",
        "        lc.W -= lr * lc.W.grad\n",
        "        lc.b -= lr * lc.b.grad\n",
        "\n",
        "        lc.W.grad.zero_()\n",
        "        lc.b.grad.zero_()\n",
        "\n",
        "    train_acc /= train_samples\n",
        "    train_loss /= train_samples\n",
        "    # validation\n",
        "    with torch.no_grad():\n",
        "      valid_loss = 0\n",
        "      valid_samples = 0\n",
        "      valid_acc = 0\n",
        "      if valid_dl is not None:\n",
        "        for valid_data in valid_dl:\n",
        "          valid_scores = lc.forward(valid_data[0])\n",
        "          valid_loss += F.cross_entropy(valid_scores, valid_data[1]).item() * valid_data[0].shape[0]\n",
        "          valid_samples += valid_data[0].shape[0]\n",
        "          valid_acc += ncorrect(valid_scores, valid_data[1]).item()\n",
        "        valid_acc /= valid_samples\n",
        "        valid_loss /= valid_samples\n",
        "        \n",
        "      if valid_dl is None or valid_acc > best_valid_acc:\n",
        "        best_valid_acc = valid_acc if valid_dl is not None else 0\n",
        "        best_params = [lc.W, lc.b] \n",
        "        best_epoch = e\n",
        "\n",
        "      \n",
        "    if verbose and e % 10 == 0:\n",
        "      print(f\"Epoch {e}: train loss {train_loss:.3f} - train acc {train_acc:.3f}\"\n",
        "            + (\"\" if valid_dl is None else f\" - valid loss {valid_loss:.3f} - valid acc {valid_acc:.3f}\"))\n",
        "  \n",
        "  if verbose and valid_dl is not None:\n",
        "    print(f\"Best epoch {best_epoch}, best acc {best_valid_acc}\")\n",
        "\n",
        "  return best_valid_acc, best_params, best_epoch"
      ],
      "execution_count": null,
      "outputs": []
    },
    {
      "cell_type": "markdown",
      "metadata": {
        "id": "F7ZT1VvcFhH5"
      },
      "source": [
        "We can use this function to train a linear model on the small datasets. When training the same model with GD over the same small dataset, we used 1000 epochs, as parameters were updated only after each epoch, i.e 1000 times. \n",
        "\n",
        "To perform about the same number of parameter updates with `batch_size=128` , we should instead run for only 200 epochs: since there are 500 items in the small training set, every epoch we perform $\\left \\lceil \\frac{500}{128} \\right \\rceil = 5$ updates, hence 1000 in 200 epochs.\n",
        "\n",
        "Yet this dataset is only used for quick sanity checks and 200 epochs on such a small dataset are too many: we can likely achieve results similar to what we had with 50-100 epochs."
      ]
    },
    {
      "cell_type": "code",
      "metadata": {
        "id": "M_BwceoHbd3_",
        "colab": {
          "base_uri": "https://localhost:8080/"
        },
        "outputId": "1c412d9c-c2ac-439a-ce57-7926206884e0"
      },
      "source": [
        "start = timer()\n",
        "train_linear_classifier(n_features=n_features, n_classes=n_classes, \n",
        "                        train_dl=small_actual_train_dl, epochs=100, lr=1e-3, \n",
        "                        valid_dl=small_valid_dl, verbose=True)\n",
        "end = timer()\n",
        "print(f\"Elapsed time (s): {end-start}\")"
      ],
      "execution_count": null,
      "outputs": [
        {
          "output_type": "stream",
          "name": "stdout",
          "text": [
            "Epoch 0: train loss 2.302 - train acc 0.124 - valid loss 2.300 - valid acc 0.180\n",
            "Epoch 10: train loss 2.253 - train acc 0.234 - valid loss 2.280 - valid acc 0.170\n",
            "Epoch 20: train loss 2.218 - train acc 0.252 - valid loss 2.256 - valid acc 0.230\n",
            "Epoch 30: train loss 2.186 - train acc 0.270 - valid loss 2.235 - valid acc 0.260\n",
            "Epoch 40: train loss 2.158 - train acc 0.272 - valid loss 2.215 - valid acc 0.280\n",
            "Epoch 50: train loss 2.133 - train acc 0.294 - valid loss 2.199 - valid acc 0.270\n",
            "Epoch 60: train loss 2.109 - train acc 0.304 - valid loss 2.184 - valid acc 0.270\n",
            "Epoch 70: train loss 2.088 - train acc 0.306 - valid loss 2.172 - valid acc 0.270\n",
            "Epoch 80: train loss 2.070 - train acc 0.310 - valid loss 2.161 - valid acc 0.270\n",
            "Epoch 90: train loss 2.051 - train acc 0.324 - valid loss 2.149 - valid acc 0.260\n",
            "Best epoch 38, best acc 0.29\n",
            "Elapsed time (s): 8.214519250999956\n"
          ]
        }
      ]
    },
    {
      "cell_type": "markdown",
      "metadata": {
        "id": "eTYMt-jwUsIB"
      },
      "source": [
        "Accuracy is similar to the one obtained running GD on the small dataset with the same learning rate. We can run for a lot less epochs, though.\n",
        "\n",
        "We just implemented SGD. Should we create a new version of our training loop for each optimization strategy we studied? Or one version with several parameters? Luckily, PyTorch provides a clean interface to try different optimization algorithms by using what PyTorch calls `Optimizer`s, which are defined in the `torch.optim` package. \n",
        "\n",
        "Let's first use one `Optimizer` in our training loop to replace our hand-made implementation of SGD. `Optimizer`s define two key functions: `step` and `zero_grad`. Their usage should be clear from the example below. "
      ]
    },
    {
      "cell_type": "code",
      "metadata": {
        "id": "ENPErXJgY0vH"
      },
      "source": [
        "def train_linear_classifier(n_features, n_classes, train_dl, epochs, lr, \n",
        "                            valid_dl=None, verbose=False):\n",
        "  lc = LinearClassifier(n_features, n_classes)\n",
        "  best_valid_acc = 0\n",
        "  best_params = [lc.W, lc.b]\n",
        "  best_epoch = -1\n",
        "\n",
        "  # create the SGD Optimizer\n",
        "  # Required params are a list of Tensors to update with SGD, and the learning rate\n",
        "  opt = torch.optim.SGD([lc.W, lc.b], lr=lr)\n",
        "\n",
        "  for e in range(epochs):\n",
        "    #train\n",
        "    train_loss = 0\n",
        "    train_samples = 0\n",
        "    train_acc = 0\n",
        "    for train_data in train_dl:\n",
        "      scores = lc.forward(train_data[0])\n",
        "      loss = F.cross_entropy(scores, train_data[1])\n",
        "      train_loss += loss.item() * train_data[0].shape[0]\n",
        "      train_samples += train_data[0].shape[0]\n",
        "      train_acc += ncorrect(scores, train_data[1]).item()\n",
        "      loss.backward()\n",
        "\n",
        "      with torch.no_grad():\n",
        "        \n",
        "        opt.step()\n",
        "        # replaces\n",
        "        #lc.W -= lr * lc.W.grad\n",
        "        #lc.b -= lr * lc.b.grad\n",
        "\n",
        "        opt.zero_grad()\n",
        "        # replaces\n",
        "        #lc.W.grad.zero_()\n",
        "        #lc.b.grad.zero_()\n",
        "\n",
        "    train_acc /= train_samples\n",
        "    train_loss /= train_samples\n",
        "    # validation\n",
        "    with torch.no_grad():\n",
        "      \n",
        "      valid_loss = 0\n",
        "      valid_samples = 0\n",
        "      valid_acc = 0\n",
        "      if valid_dl is not None:\n",
        "        for valid_data in valid_dl:\n",
        "          valid_scores = lc.forward(valid_data[0])\n",
        "          valid_loss += F.cross_entropy(valid_scores, valid_data[1]).item() * valid_data[0].shape[0]\n",
        "          valid_samples += valid_data[0].shape[0]\n",
        "          valid_acc += ncorrect(valid_scores, valid_data[1]).item()\n",
        "        valid_acc /= valid_samples\n",
        "        valid_loss /= valid_samples\n",
        "      \n",
        "      if valid_dl is None or valid_acc > best_valid_acc:\n",
        "        best_valid_acc = valid_acc if valid_dl is not None else 0\n",
        "        best_params = [lc.W, lc.b] \n",
        "        best_epoch = e\n",
        "\n",
        "      \n",
        "    if verbose and e % 10 == 0:\n",
        "      print(f\"Epoch {e}: train loss {train_loss:.3f} - train acc {train_acc:.3f}\" + (\"\" if valid_dl is None else f\" - valid loss {valid_loss:.3f} - valid acc {valid_acc:.3f}\"))\n",
        "  \n",
        "  if verbose and valid_dl is not None:\n",
        "    print(f\"Best epoch {best_epoch}, best acc {best_valid_acc}\")\n",
        "\n",
        "  return best_valid_acc, best_params, best_epoch"
      ],
      "execution_count": null,
      "outputs": []
    },
    {
      "cell_type": "markdown",
      "metadata": {
        "id": "jFVsWewCZnmv"
      },
      "source": [
        "Running the loop based on `Optimizer`s, we should get results similar to our previous implementation."
      ]
    },
    {
      "cell_type": "code",
      "metadata": {
        "id": "dtySOMEMfS5C",
        "colab": {
          "base_uri": "https://localhost:8080/"
        },
        "outputId": "a1095ef7-87e0-4155-c617-56b6ead90dc5"
      },
      "source": [
        "start = timer()\n",
        "train_linear_classifier(n_features=n_features, n_classes=n_classes, \n",
        "                        train_dl=small_actual_train_dl, epochs=100, lr=1e-3, \n",
        "                        valid_dl=small_valid_dl, verbose=True)\n",
        "end = timer()\n",
        "print(f\"Elapsed time (s): {end-start}\")"
      ],
      "execution_count": null,
      "outputs": [
        {
          "output_type": "stream",
          "name": "stdout",
          "text": [
            "Epoch 0: train loss 2.301 - train acc 0.124 - valid loss 2.300 - valid acc 0.140\n",
            "Epoch 10: train loss 2.254 - train acc 0.222 - valid loss 2.279 - valid acc 0.200\n",
            "Epoch 20: train loss 2.220 - train acc 0.230 - valid loss 2.254 - valid acc 0.240\n",
            "Epoch 30: train loss 2.187 - train acc 0.290 - valid loss 2.234 - valid acc 0.270\n",
            "Epoch 40: train loss 2.158 - train acc 0.280 - valid loss 2.216 - valid acc 0.280\n",
            "Epoch 50: train loss 2.133 - train acc 0.276 - valid loss 2.198 - valid acc 0.270\n",
            "Epoch 60: train loss 2.110 - train acc 0.294 - valid loss 2.185 - valid acc 0.270\n",
            "Epoch 70: train loss 2.089 - train acc 0.304 - valid loss 2.171 - valid acc 0.260\n",
            "Epoch 80: train loss 2.069 - train acc 0.310 - valid loss 2.159 - valid acc 0.270\n",
            "Epoch 90: train loss 2.052 - train acc 0.318 - valid loss 2.150 - valid acc 0.270\n",
            "Best epoch 35, best acc 0.29\n",
            "Elapsed time (s): 8.003196181000021\n"
          ]
        }
      ]
    },
    {
      "cell_type": "markdown",
      "metadata": {
        "id": "C5nrPll5aNOA"
      },
      "source": [
        "Good. Optimizers are very useful, but they pose a software engineering problem. Each optimizers has its own set of parameters, to be specified at creation time. All of them, though, need also the list of Tensors to optimize, again at creation time, and therefore **must be created after having created the model that holds the parameters** (the linear classifier, in our case). So we need to create the `Optimizer` within the training loop. How can we try different `Optimizer`s without writing different versions of our training function?\n",
        "\n",
        "One possible solution is to use the `partial` function from the standard Python `functools` package. This function accepts a function or a class as input plus the value of **some** of its parameters, and returns a new function where those parameters are fixed at the specified values and the remaining parameters can be specified **when calling the new function**.\n",
        "\n",
        "For instance, SGD defines a parameter `momentum`, which specifies the parameter we called $\\beta$ in the slides. Of course, $\\beta=0$ gives vanilla SGD and it is the default value. How can we create a MomentumSGD class where the momentum parameter has been fixed and we can decide the learning rate later?"
      ]
    },
    {
      "cell_type": "code",
      "metadata": {
        "id": "Zr0gm0DkbNU5",
        "colab": {
          "base_uri": "https://localhost:8080/"
        },
        "outputId": "3a39c264-e5bd-4a3c-8205-ad6baa8baa46"
      },
      "source": [
        "partial_momentumSGD = partial(torch.optim.SGD, momentum=0.9)\n",
        "partial_momentumSGD"
      ],
      "execution_count": null,
      "outputs": [
        {
          "output_type": "execute_result",
          "data": {
            "text/plain": [
              "functools.partial(<class 'torch.optim.sgd.SGD'>, momentum=0.9)"
            ]
          },
          "metadata": {},
          "execution_count": 16
        }
      ]
    },
    {
      "cell_type": "code",
      "metadata": {
        "id": "xtrdyN-UbTqN",
        "colab": {
          "base_uri": "https://localhost:8080/"
        },
        "outputId": "f920954a-4820-49e5-bdf1-0637c75863db"
      },
      "source": [
        "lc = LinearClassifier(n_features, n_classes)\n",
        "fullySpecified_SGD = partial_momentumSGD([lc.W, lc.b], lr=0.1)\n",
        "print(fullySpecified_SGD)\n",
        "print(type(fullySpecified_SGD))"
      ],
      "execution_count": null,
      "outputs": [
        {
          "output_type": "stream",
          "name": "stdout",
          "text": [
            "SGD (\n",
            "Parameter Group 0\n",
            "    dampening: 0\n",
            "    lr: 0.1\n",
            "    momentum: 0.9\n",
            "    nesterov: False\n",
            "    weight_decay: 0\n",
            ")\n",
            "<class 'torch.optim.sgd.SGD'>\n"
          ]
        }
      ]
    },
    {
      "cell_type": "markdown",
      "metadata": {
        "id": "emN8sJDTdPgd"
      },
      "source": [
        "Using `partial`, we can modify our training loop to let it accept a partially specified subclass of `Optimizer`, which we complete with the list of `Tensor`s to optimize after we create them.\n",
        "\n",
        "As `Optimizer`s wrap also the learning rate parameter, we can remove it from the signature of the function."
      ]
    },
    {
      "cell_type": "code",
      "metadata": {
        "id": "o1rXQXn966EZ"
      },
      "source": [
        "def train_linear_classifier(n_features, n_classes, train_dl, epochs, partial_opt, \n",
        "                            valid_dl=None, verbose=False):\n",
        "  lc = LinearClassifier(n_features, n_classes)\n",
        "  best_valid_acc = 0\n",
        "  best_params = [lc.W, lc.b]\n",
        "  best_epoch = -1\n",
        "\n",
        "  # We \"complete\" the partial function by calling it and specifying the missing parameters\n",
        "  opt = partial_opt([lc.W, lc.b])\n",
        "\n",
        "  for e in range(epochs):\n",
        "    #train\n",
        "    train_loss = 0\n",
        "    train_samples = 0\n",
        "    train_acc = 0\n",
        "    for train_data in train_dl:\n",
        "      scores = lc.forward(train_data[0])\n",
        "      loss = F.cross_entropy(scores, train_data[1])\n",
        "      train_loss += loss.item() * train_data[0].shape[0]\n",
        "      train_samples += train_data[0].shape[0]\n",
        "      train_acc += ncorrect(scores, train_data[1]).item()\n",
        "      loss.backward()\n",
        "\n",
        "      with torch.no_grad():\n",
        "        opt.step()\n",
        "        opt.zero_grad()\n",
        "\n",
        "    train_acc /= train_samples\n",
        "    train_loss /= train_samples\n",
        "    \n",
        "    # validation\n",
        "    with torch.no_grad():\n",
        "      \n",
        "      valid_loss = 0\n",
        "      valid_samples = 0\n",
        "      valid_acc = 0\n",
        "      if valid_dl is not None:\n",
        "        for valid_data in valid_dl:\n",
        "          valid_scores = lc.forward(valid_data[0])\n",
        "          valid_loss += F.cross_entropy(valid_scores, valid_data[1]).item() * valid_data[0].shape[0]\n",
        "          valid_samples += valid_data[0].shape[0]\n",
        "          valid_acc += ncorrect(valid_scores, valid_data[1]).item()\n",
        "        valid_acc /= valid_samples\n",
        "        valid_loss /= valid_samples\n",
        "      \n",
        "      if valid_dl is None or valid_acc > best_valid_acc:\n",
        "        best_valid_acc = valid_acc if valid_dl is not None else 0\n",
        "        best_params = [lc.W, lc.b] \n",
        "        best_epoch = e\n",
        "\n",
        "      \n",
        "    if verbose and e % 10 == 0:\n",
        "      print(f\"Epoch {e}: train loss {train_loss:.3f} - train acc {train_acc:.3f}\" + (\"\" if valid_dl is None else f\" - valid loss {valid_loss:.3f} - valid acc {valid_acc:.3f}\"))\n",
        "  \n",
        "  if verbose and valid_dl is not None:\n",
        "    print(f\"Best epoch {best_epoch}, best acc {best_valid_acc}\")\n",
        "\n",
        "  return best_valid_acc, best_params, best_epoch"
      ],
      "execution_count": null,
      "outputs": []
    },
    {
      "cell_type": "markdown",
      "metadata": {
        "id": "DKbAbJTSfAI-"
      },
      "source": [
        "We can verify if calling it with a partially specified SGD gives similar results to what we had above."
      ]
    },
    {
      "cell_type": "code",
      "metadata": {
        "id": "5Q-N0Rwlujpx",
        "colab": {
          "base_uri": "https://localhost:8080/"
        },
        "outputId": "469f67b5-18cd-441e-b0a5-22ac7fca78c7"
      },
      "source": [
        "start = timer()\n",
        "lr=1e-3\n",
        "p_opt = partial(torch.optim.SGD, lr=lr)\n",
        "train_linear_classifier(n_features=n_features, n_classes=n_classes, \n",
        "                        train_dl=small_actual_train_dl, epochs=100, \n",
        "                        partial_opt=p_opt, valid_dl=small_valid_dl, verbose=True)\n",
        "end = timer()\n",
        "print(f\"Elapsed time (s): {end-start}\")"
      ],
      "execution_count": null,
      "outputs": [
        {
          "output_type": "stream",
          "name": "stdout",
          "text": [
            "Epoch 0: train loss 2.302 - train acc 0.120 - valid loss 2.300 - valid acc 0.180\n",
            "Epoch 10: train loss 2.254 - train acc 0.222 - valid loss 2.280 - valid acc 0.200\n",
            "Epoch 20: train loss 2.218 - train acc 0.250 - valid loss 2.255 - valid acc 0.260\n",
            "Epoch 30: train loss 2.186 - train acc 0.280 - valid loss 2.233 - valid acc 0.260\n",
            "Epoch 40: train loss 2.159 - train acc 0.270 - valid loss 2.215 - valid acc 0.290\n",
            "Epoch 50: train loss 2.133 - train acc 0.282 - valid loss 2.198 - valid acc 0.270\n",
            "Epoch 60: train loss 2.109 - train acc 0.298 - valid loss 2.184 - valid acc 0.280\n",
            "Epoch 70: train loss 2.088 - train acc 0.302 - valid loss 2.172 - valid acc 0.280\n",
            "Epoch 80: train loss 2.069 - train acc 0.320 - valid loss 2.160 - valid acc 0.270\n",
            "Epoch 90: train loss 2.052 - train acc 0.324 - valid loss 2.149 - valid acc 0.260\n",
            "Best epoch 33, best acc 0.29\n",
            "Elapsed time (s): 8.012871770999936\n"
          ]
        }
      ]
    },
    {
      "cell_type": "markdown",
      "metadata": {
        "id": "97-MWFzzfcrz"
      },
      "source": [
        "Finally, we can create the usual hyperparameter tuning function. It now accepts `DataLoader`s for input data.\n",
        "\n",
        "As hyperparameters, we used to have the learning rate. As the learning rate is a parameter of all `Optimizer`s, we can remove it from the signature of the function: our list of hyperparameters to try becomes a list of (partially specified) optimizers. "
      ]
    },
    {
      "cell_type": "code",
      "metadata": {
        "id": "86CJKzlMWee7"
      },
      "source": [
        "def hyperparameter_tuning(n_features, n_classes, train_dl, valid_dl, partial_opts, epochs=5):\n",
        "  \n",
        "  best_valid_acc = 0\n",
        "  best_params = []\n",
        "  best_hyper_params = []\n",
        "\n",
        "  for partial_opt in partial_opts:\n",
        "    run_valid_acc, params, epoch = train_linear_classifier(n_features, n_classes, \n",
        "            train_dl, epochs=epochs, partial_opt=partial_opt, valid_dl=valid_dl, verbose=False)\n",
        "\n",
        "    if run_valid_acc > best_valid_acc:\n",
        "      best_valid_acc = run_valid_acc\n",
        "      best_params = params\n",
        "      best_hyper_params = [partial_opt, epoch]\n",
        "      print(f\"Improved result: acc {best_valid_acc:.3f}, optimizer {partial_opt}, epoch {epoch} \")\n",
        "  return best_hyper_params, best_params"
      ],
      "execution_count": null,
      "outputs": []
    },
    {
      "cell_type": "markdown",
      "metadata": {
        "id": "Xd9pCO7Lgcoe"
      },
      "source": [
        "We can then build a list of `Optimizer`s to try. We can try the usual starting values for learning rates, SGD with and without (Nesterov) momentum, and Adam. \n",
        "\n",
        "I'm sampling this space coarsely to limit the run-time, but try to explore it a bit more and see if you can get (slightly) higher accuracy."
      ]
    },
    {
      "cell_type": "code",
      "metadata": {
        "id": "swayc8Dmb5g7",
        "colab": {
          "base_uri": "https://localhost:8080/"
        },
        "outputId": "bf2e272f-0d97-48ad-9132-d2c709a07547"
      },
      "source": [
        "def build_optlist():\n",
        "  lrs = [1e-4, 1e-3, 1e-2]\n",
        "  betas = [0.9]\n",
        "  opts = [partial(torch.optim.SGD, lr=lr) for lr in lrs]\n",
        "  opts += [partial(torch.optim.SGD, lr=lr, momentum=beta, nesterov=True) for lr in lrs for beta in betas]\n",
        "  opts += [partial(torch.optim.Adam, lr=lr) for lr in lrs]\n",
        "  #opts += [partial(torch.optim.RMSprop, lr=lr) for lr in lrs]\n",
        "  return opts\n",
        "\n",
        "build_optlist()"
      ],
      "execution_count": null,
      "outputs": [
        {
          "output_type": "execute_result",
          "data": {
            "text/plain": [
              "[functools.partial(<class 'torch.optim.sgd.SGD'>, lr=0.0001),\n",
              " functools.partial(<class 'torch.optim.sgd.SGD'>, lr=0.001),\n",
              " functools.partial(<class 'torch.optim.sgd.SGD'>, lr=0.01),\n",
              " functools.partial(<class 'torch.optim.sgd.SGD'>, lr=0.0001, momentum=0.9, nesterov=True),\n",
              " functools.partial(<class 'torch.optim.sgd.SGD'>, lr=0.001, momentum=0.9, nesterov=True),\n",
              " functools.partial(<class 'torch.optim.sgd.SGD'>, lr=0.01, momentum=0.9, nesterov=True),\n",
              " functools.partial(<class 'torch.optim.adam.Adam'>, lr=0.0001),\n",
              " functools.partial(<class 'torch.optim.adam.Adam'>, lr=0.001),\n",
              " functools.partial(<class 'torch.optim.adam.Adam'>, lr=0.01)]"
            ]
          },
          "metadata": {},
          "execution_count": 37
        }
      ]
    },
    {
      "cell_type": "markdown",
      "metadata": {
        "id": "GXqBwdumg9KM"
      },
      "source": [
        "Then, as usual, we run hyperparameter tuning."
      ]
    },
    {
      "cell_type": "code",
      "metadata": {
        "id": "zNs_LPC48HnO",
        "colab": {
          "base_uri": "https://localhost:8080/"
        },
        "outputId": "8efa7d29-5dec-4f91-afd3-c8d408582d90"
      },
      "source": [
        "start=timer()\n",
        "opts = build_optlist()\n",
        "best_hyper_params, best_params = hyperparameter_tuning(n_features, n_classes, small_actual_train_dl, small_valid_dl, opts, epochs=50)\n",
        "end=timer()\n",
        "print(f\"Elapsed time (s): {end-start:.3f}\")\n",
        "print(f\"best optimizer {best_hyper_params[0]}, best epoch {best_hyper_params[1]}\")"
      ],
      "execution_count": null,
      "outputs": [
        {
          "output_type": "stream",
          "name": "stdout",
          "text": [
            "Improved result: acc 0.190, optimizer functools.partial(<class 'torch.optim.sgd.SGD'>, lr=0.0001), epoch 0 \n",
            "Improved result: acc 0.280, optimizer functools.partial(<class 'torch.optim.sgd.SGD'>, lr=0.001), epoch 33 \n",
            "Improved result: acc 0.310, optimizer functools.partial(<class 'torch.optim.sgd.SGD'>, lr=0.01), epoch 34 \n",
            "Elapsed time (s): 35.044\n",
            "best optimizer functools.partial(<class 'torch.optim.sgd.SGD'>, lr=0.01), best epoch 34\n"
          ]
        }
      ]
    },
    {
      "cell_type": "markdown",
      "metadata": {
        "id": "NeaOzy2MhIbx"
      },
      "source": [
        "SGD with momentum improves over plain SGD, both in terms of accuracy and speed of convergence. ADAM and SGD+momentum perform similarly here: depending on the random creation of the `DataLoader`s, you may see that one or the other reaches the best validation accuracy. Moreover, higher learning rates are consistently better across optimizers.\n",
        "\n",
        "We can then redefine build_optlist() to only run SGD with momentum and ADAM and to try only the higher learning rates."
      ]
    },
    {
      "cell_type": "code",
      "metadata": {
        "colab": {
          "base_uri": "https://localhost:8080/"
        },
        "id": "R69rDSaMxoHV",
        "outputId": "77f0279e-f8e1-46ee-9fe5-79215961bf6f"
      },
      "source": [
        "def build_optlist():\n",
        "  lrs = [1e-3, 1e-2]\n",
        "  betas = [0.9]\n",
        "  opts = [partial(torch.optim.SGD, lr=lr, momentum=beta, nesterov=True) for lr in lrs for beta in betas]\n",
        "  opts += [partial(torch.optim.Adam, lr=lr) for lr in lrs]\n",
        "  return opts\n",
        "\n",
        "build_optlist()"
      ],
      "execution_count": null,
      "outputs": [
        {
          "output_type": "execute_result",
          "data": {
            "text/plain": [
              "[functools.partial(<class 'torch.optim.sgd.SGD'>, lr=0.001, momentum=0.9, nesterov=True),\n",
              " functools.partial(<class 'torch.optim.sgd.SGD'>, lr=0.01, momentum=0.9, nesterov=True),\n",
              " functools.partial(<class 'torch.optim.adam.Adam'>, lr=0.001),\n",
              " functools.partial(<class 'torch.optim.adam.Adam'>, lr=0.01)]"
            ]
          },
          "metadata": {},
          "execution_count": 36
        }
      ]
    },
    {
      "cell_type": "markdown",
      "metadata": {
        "id": "zeFWhnp-xo0z"
      },
      "source": [
        "Since we are getting reasonable results we can switch to the full dataset.\n",
        "\n",
        "Let's try first with only 3 learning rates with vanilla SGD, as we did with GD last time.\n",
        "\n",
        "Following the reasoning on getting 1000 parameter updates as we did with GD, we can set the number of epochs as low as 3, since $\\lceil \\frac{45000}{128} \\rceil = 352$. Let's be conservative and try 5. You can try to increase this number and perform a lot more parameter updates than you could have done with GD: accuracy should rise over 40% if you train longer."
      ]
    },
    {
      "cell_type": "code",
      "metadata": {
        "id": "jluKAZsbhkLT",
        "colab": {
          "base_uri": "https://localhost:8080/"
        },
        "outputId": "febb9103-1a0b-402d-d24c-3516a6056ca5"
      },
      "source": [
        "start=timer()\n",
        "opts = [partial(torch.optim.SGD, lr=lr) for lr in [1e-3, 3.3e-3, 1e-2]]\n",
        "best_hyper_params, best_params = hyperparameter_tuning(n_features, n_classes, actual_train_dl, valid_dl, opts, epochs=5)\n",
        "end=timer()\n",
        "print(f\"Elapsed time (s): {end-start:.3f}\")\n",
        "print(f\"best optimizer {best_hyper_params[0]}, best epoch {best_hyper_params[1]}\")"
      ],
      "execution_count": null,
      "outputs": [
        {
          "output_type": "stream",
          "name": "stdout",
          "text": [
            "Improved result: acc 0.327, optimizer functools.partial(<class 'torch.optim.sgd.SGD'>, lr=0.001), epoch 4 \n",
            "Improved result: acc 0.359, optimizer functools.partial(<class 'torch.optim.sgd.SGD'>, lr=0.0033), epoch 4 \n",
            "Improved result: acc 0.362, optimizer functools.partial(<class 'torch.optim.sgd.SGD'>, lr=0.01), epoch 3 \n",
            "Elapsed time (s): 96.937\n",
            "best optimizer functools.partial(<class 'torch.optim.sgd.SGD'>, lr=0.01), best epoch 3\n"
          ]
        }
      ]
    },
    {
      "cell_type": "markdown",
      "metadata": {
        "id": "aXvAorfdhp2r"
      },
      "source": [
        "That took about 1000 seconds on my run with GD. Now we are down to about 100 seconds.\n",
        "Accuracy was about 0.38, now is about 0.370.\n",
        "\n",
        "We are ready to run the search on the full hyperparameter space."
      ]
    },
    {
      "cell_type": "code",
      "metadata": {
        "id": "3eJ-_A9cb-gG",
        "colab": {
          "base_uri": "https://localhost:8080/"
        },
        "outputId": "c3620069-adc3-4952-eca7-ea9f0f50329e"
      },
      "source": [
        "start=timer()\n",
        "opts = build_optlist()\n",
        "best_hyper_params, best_params = hyperparameter_tuning(n_features, n_classes, actual_train_dl, valid_dl, opts, epochs=5)\n",
        "end=timer()\n",
        "print(f\"Elapsed time (s): {end-start:.3f}\")\n",
        "print(f\"best optimizer {best_hyper_params[0]}, best epoch {best_hyper_params[1]}\")"
      ],
      "execution_count": null,
      "outputs": [
        {
          "output_type": "stream",
          "name": "stdout",
          "text": [
            "Improved result: acc 0.248, optimizer functools.partial(<class 'torch.optim.sgd.SGD'>, lr=0.0001), epoch 4 \n",
            "Improved result: acc 0.331, optimizer functools.partial(<class 'torch.optim.sgd.SGD'>, lr=0.001), epoch 4 \n",
            "Improved result: acc 0.360, optimizer functools.partial(<class 'torch.optim.sgd.SGD'>, lr=0.01), epoch 4 \n",
            "Improved result: acc 0.379, optimizer functools.partial(<class 'torch.optim.sgd.SGD'>, lr=0.001, momentum=0.9, nesterov=True), epoch 4 \n",
            "Improved result: acc 0.391, optimizer functools.partial(<class 'torch.optim.sgd.SGD'>, lr=0.01, momentum=0.9, nesterov=True), epoch 3 \n",
            "Elapsed time (s): 292.172\n",
            "best optimizer functools.partial(<class 'torch.optim.sgd.SGD'>, lr=0.01, momentum=0.9, nesterov=True), best epoch 3\n"
          ]
        }
      ]
    },
    {
      "cell_type": "markdown",
      "metadata": {
        "id": "0D1tde_SiG_-"
      },
      "source": [
        "We then remove the distinction between the training set and the validation set. This is as easy now as creating a new `DataLoader` around the original training `Dataset` `train_ds`."
      ]
    },
    {
      "cell_type": "code",
      "metadata": {
        "id": "i3YyU-RKHerJ"
      },
      "source": [
        "train_dl = torch.utils.data.DataLoader(train_ds, batch_size=batch_size, shuffle=True)"
      ],
      "execution_count": null,
      "outputs": []
    },
    {
      "cell_type": "markdown",
      "metadata": {
        "id": "qYoWdNTaiYYi"
      },
      "source": [
        "Then we can train with the full training set and the best hyper-parameters."
      ]
    },
    {
      "cell_type": "code",
      "metadata": {
        "id": "QbMAdGriRabk",
        "colab": {
          "base_uri": "https://localhost:8080/"
        },
        "outputId": "6edd7a89-8e3e-410a-fb27-f512755a6ce2"
      },
      "source": [
        "start = timer()\n",
        "best_opt = best_hyper_params[0]\n",
        "best_epochs = best_hyper_params[1]\n",
        "_, best_params, best_epoch = train_linear_classifier(n_features=n_features, n_classes=n_classes, train_dl=train_dl, epochs=best_epochs, partial_opt=best_opt, verbose=True)\n",
        "end = timer()\n",
        "print(f\"Elapsed time (s): {end-start}\")"
      ],
      "execution_count": null,
      "outputs": [
        {
          "output_type": "stream",
          "name": "stdout",
          "text": [
            "Epoch 0: train loss 1.887 - train acc 0.332\n",
            "Elapsed time (s): 19.64868707300002\n"
          ]
        }
      ]
    },
    {
      "cell_type": "markdown",
      "metadata": {
        "id": "tgdkHqrOilPJ"
      },
      "source": [
        "Finally, we can test the trained model on the full test set."
      ]
    },
    {
      "cell_type": "code",
      "metadata": {
        "id": "Sk_iPz688FW5",
        "colab": {
          "base_uri": "https://localhost:8080/"
        },
        "outputId": "b2a2151b-f1fd-4f7c-cf94-108e70475f75"
      },
      "source": [
        "lc = LinearClassifier(n_features, n_classes)\n",
        "lc.set_params(best_params[0], best_params[1])\n",
        "\n",
        "start = timer()\n",
        "test_samples = 0\n",
        "test_acc = 0\n",
        "for test_data in test_dl:\n",
        "  test_scores = lc.forward(test_data[0])\n",
        "  test_samples += test_data[0].shape[0]\n",
        "  test_acc += ncorrect(test_scores, test_data[1]).item()\n",
        "test_acc /= test_samples\n",
        "end = timer()\n",
        "print(f\"Accuracy on full test set {test_acc:.3f}, elapsed time (s): {end-start:.3f}\")\n"
      ],
      "execution_count": null,
      "outputs": [
        {
          "output_type": "stream",
          "name": "stdout",
          "text": [
            "Accuracy on full test set 0.358, elapsed time (s): 1.254\n"
          ]
        }
      ]
    },
    {
      "cell_type": "code",
      "metadata": {
        "id": "Z-Cv-AMfTuYE"
      },
      "source": [
        ""
      ],
      "execution_count": null,
      "outputs": []
    }
  ]
}